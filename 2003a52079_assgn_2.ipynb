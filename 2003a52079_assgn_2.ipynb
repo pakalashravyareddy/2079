{
  "nbformat": 4,
  "nbformat_minor": 0,
  "metadata": {
    "colab": {
      "name": "2003a52079 assgn 2.ipynb",
      "provenance": [],
      "collapsed_sections": [],
      "toc_visible": true
    },
    "kernelspec": {
      "name": "python3",
      "display_name": "Python 3"
    },
    "language_info": {
      "name": "python"
    }
  },
  "cells": [
    {
      "cell_type": "code",
      "metadata": {
        "colab": {
          "base_uri": "https://localhost:8080/"
        },
        "id": "zD0Q6-TIRYco",
        "outputId": "9873458b-6aef-40d4-9973-6a25b9ebaaba"
      },
      "source": [
        "import numpy as pd\n",
        "b0=pd.array([1235,1500,1850,2000])\n",
        "b1=pd.array([1900,1950,2000,2100])\n",
        "x=pd.array([3.2,3.2,3.7,3.9,4,4,4.1,4.5,4.9,5.1,5.3,5.9,6])\n",
        "y=pd.array([54445,64445,57189,63218,55794,56957,57081,61111,67938,66029,83088,81363,93940])\n",
        "for i in range(4):\n",
        "  ypred=[]\n",
        "  for j in range(13):\n",
        "    pred=(b0[i]+(b1[i]*x[j]))       #finding y predicted\n",
        "    ypred.append((y[j]-pred)**2)          # square error\n",
        "  print(f\"Mean Square Error for Beta values {b0[i]} and {b1[i]} is -:-  {pd.mean(ypred)}\") # mean square error"
      ],
      "execution_count": 7,
      "outputs": [
        {
          "output_type": "stream",
          "name": "stdout",
          "text": [
            "Mean Square Error for Beta values 1235 and 1900 is -:-  3320373537.3076925\n",
            "Mean Square Error for Beta values 1500 and 1950 is -:-  3264631537.6923075\n",
            "Mean Square Error for Beta values 1850 and 2000 is -:-  3199907304.6153846\n",
            "Mean Square Error for Beta values 2000 and 2100 is -:-  3132651969.230769\n"
          ]
        }
      ]
    },
    {
      "cell_type": "code",
      "metadata": {
        "id": "CHa3m_uHYtwZ"
      },
      "source": [
        ""
      ],
      "execution_count": null,
      "outputs": []
    }
  ]
}